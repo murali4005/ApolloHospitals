{
 "cells": [
  {
   "cell_type": "markdown",
   "id": "d5c5d3b4",
   "metadata": {},
   "source": [
    "## Problem Statement: \n",
    "\n",
    "### Apollo Hospitals is the nation's first corporate hospital and is acclaimed for pioneering the private healthcare revolution in the country. By using this data help apollo hospitals to learn which factors mostly impact the hospitalization charges for different regions."
   ]
  },
  {
   "cell_type": "code",
   "execution_count": 1,
   "id": "41455975",
   "metadata": {},
   "outputs": [],
   "source": [
    "import pandas as pd\n",
    "import numpy as np\n",
    "import matplotlib.pyplot as plt\n",
    "import seaborn as sns"
   ]
  },
  {
   "cell_type": "code",
   "execution_count": 44,
   "id": "03b9d62c",
   "metadata": {},
   "outputs": [],
   "source": [
    "df = pd.read_csv('scaler_apollo_hospitals.csv')"
   ]
  },
  {
   "cell_type": "code",
   "execution_count": 3,
   "id": "58b887c0",
   "metadata": {
    "scrolled": true
   },
   "outputs": [
    {
     "data": {
      "text/html": [
       "<div>\n",
       "<style scoped>\n",
       "    .dataframe tbody tr th:only-of-type {\n",
       "        vertical-align: middle;\n",
       "    }\n",
       "\n",
       "    .dataframe tbody tr th {\n",
       "        vertical-align: top;\n",
       "    }\n",
       "\n",
       "    .dataframe thead th {\n",
       "        text-align: right;\n",
       "    }\n",
       "</style>\n",
       "<table border=\"1\" class=\"dataframe\">\n",
       "  <thead>\n",
       "    <tr style=\"text-align: right;\">\n",
       "      <th></th>\n",
       "      <th>Unnamed: 0</th>\n",
       "      <th>age</th>\n",
       "      <th>sex</th>\n",
       "      <th>smoker</th>\n",
       "      <th>region</th>\n",
       "      <th>viral load</th>\n",
       "      <th>severity level</th>\n",
       "      <th>hospitalization charges</th>\n",
       "    </tr>\n",
       "  </thead>\n",
       "  <tbody>\n",
       "    <tr>\n",
       "      <th>0</th>\n",
       "      <td>0</td>\n",
       "      <td>19</td>\n",
       "      <td>female</td>\n",
       "      <td>yes</td>\n",
       "      <td>southwest</td>\n",
       "      <td>9.30</td>\n",
       "      <td>0</td>\n",
       "      <td>42212</td>\n",
       "    </tr>\n",
       "    <tr>\n",
       "      <th>1</th>\n",
       "      <td>1</td>\n",
       "      <td>18</td>\n",
       "      <td>male</td>\n",
       "      <td>no</td>\n",
       "      <td>southeast</td>\n",
       "      <td>11.26</td>\n",
       "      <td>1</td>\n",
       "      <td>4314</td>\n",
       "    </tr>\n",
       "    <tr>\n",
       "      <th>2</th>\n",
       "      <td>2</td>\n",
       "      <td>28</td>\n",
       "      <td>male</td>\n",
       "      <td>no</td>\n",
       "      <td>southeast</td>\n",
       "      <td>11.00</td>\n",
       "      <td>3</td>\n",
       "      <td>11124</td>\n",
       "    </tr>\n",
       "    <tr>\n",
       "      <th>3</th>\n",
       "      <td>3</td>\n",
       "      <td>33</td>\n",
       "      <td>male</td>\n",
       "      <td>no</td>\n",
       "      <td>northwest</td>\n",
       "      <td>7.57</td>\n",
       "      <td>0</td>\n",
       "      <td>54961</td>\n",
       "    </tr>\n",
       "    <tr>\n",
       "      <th>4</th>\n",
       "      <td>4</td>\n",
       "      <td>32</td>\n",
       "      <td>male</td>\n",
       "      <td>no</td>\n",
       "      <td>northwest</td>\n",
       "      <td>9.63</td>\n",
       "      <td>0</td>\n",
       "      <td>9667</td>\n",
       "    </tr>\n",
       "  </tbody>\n",
       "</table>\n",
       "</div>"
      ],
      "text/plain": [
       "   Unnamed: 0  age     sex smoker     region  viral load  severity level  \\\n",
       "0           0   19  female    yes  southwest        9.30               0   \n",
       "1           1   18    male     no  southeast       11.26               1   \n",
       "2           2   28    male     no  southeast       11.00               3   \n",
       "3           3   33    male     no  northwest        7.57               0   \n",
       "4           4   32    male     no  northwest        9.63               0   \n",
       "\n",
       "   hospitalization charges  \n",
       "0                    42212  \n",
       "1                     4314  \n",
       "2                    11124  \n",
       "3                    54961  \n",
       "4                     9667  "
      ]
     },
     "execution_count": 3,
     "metadata": {},
     "output_type": "execute_result"
    }
   ],
   "source": [
    "df.head()"
   ]
  },
  {
   "cell_type": "code",
   "execution_count": 4,
   "id": "7a0bfde3",
   "metadata": {},
   "outputs": [
    {
     "data": {
      "text/html": [
       "<div>\n",
       "<style scoped>\n",
       "    .dataframe tbody tr th:only-of-type {\n",
       "        vertical-align: middle;\n",
       "    }\n",
       "\n",
       "    .dataframe tbody tr th {\n",
       "        vertical-align: top;\n",
       "    }\n",
       "\n",
       "    .dataframe thead th {\n",
       "        text-align: right;\n",
       "    }\n",
       "</style>\n",
       "<table border=\"1\" class=\"dataframe\">\n",
       "  <thead>\n",
       "    <tr style=\"text-align: right;\">\n",
       "      <th></th>\n",
       "      <th>age</th>\n",
       "      <th>sex</th>\n",
       "      <th>smoker</th>\n",
       "      <th>region</th>\n",
       "      <th>viral load</th>\n",
       "      <th>severity level</th>\n",
       "      <th>hospitalization charges</th>\n",
       "    </tr>\n",
       "  </thead>\n",
       "  <tbody>\n",
       "    <tr>\n",
       "      <th>0</th>\n",
       "      <td>19</td>\n",
       "      <td>female</td>\n",
       "      <td>yes</td>\n",
       "      <td>southwest</td>\n",
       "      <td>9.30</td>\n",
       "      <td>0</td>\n",
       "      <td>42212</td>\n",
       "    </tr>\n",
       "    <tr>\n",
       "      <th>1</th>\n",
       "      <td>18</td>\n",
       "      <td>male</td>\n",
       "      <td>no</td>\n",
       "      <td>southeast</td>\n",
       "      <td>11.26</td>\n",
       "      <td>1</td>\n",
       "      <td>4314</td>\n",
       "    </tr>\n",
       "    <tr>\n",
       "      <th>2</th>\n",
       "      <td>28</td>\n",
       "      <td>male</td>\n",
       "      <td>no</td>\n",
       "      <td>southeast</td>\n",
       "      <td>11.00</td>\n",
       "      <td>3</td>\n",
       "      <td>11124</td>\n",
       "    </tr>\n",
       "    <tr>\n",
       "      <th>3</th>\n",
       "      <td>33</td>\n",
       "      <td>male</td>\n",
       "      <td>no</td>\n",
       "      <td>northwest</td>\n",
       "      <td>7.57</td>\n",
       "      <td>0</td>\n",
       "      <td>54961</td>\n",
       "    </tr>\n",
       "    <tr>\n",
       "      <th>4</th>\n",
       "      <td>32</td>\n",
       "      <td>male</td>\n",
       "      <td>no</td>\n",
       "      <td>northwest</td>\n",
       "      <td>9.63</td>\n",
       "      <td>0</td>\n",
       "      <td>9667</td>\n",
       "    </tr>\n",
       "    <tr>\n",
       "      <th>...</th>\n",
       "      <td>...</td>\n",
       "      <td>...</td>\n",
       "      <td>...</td>\n",
       "      <td>...</td>\n",
       "      <td>...</td>\n",
       "      <td>...</td>\n",
       "      <td>...</td>\n",
       "    </tr>\n",
       "    <tr>\n",
       "      <th>1333</th>\n",
       "      <td>50</td>\n",
       "      <td>male</td>\n",
       "      <td>no</td>\n",
       "      <td>northwest</td>\n",
       "      <td>10.32</td>\n",
       "      <td>3</td>\n",
       "      <td>26501</td>\n",
       "    </tr>\n",
       "    <tr>\n",
       "      <th>1334</th>\n",
       "      <td>18</td>\n",
       "      <td>female</td>\n",
       "      <td>no</td>\n",
       "      <td>northeast</td>\n",
       "      <td>10.64</td>\n",
       "      <td>0</td>\n",
       "      <td>5515</td>\n",
       "    </tr>\n",
       "    <tr>\n",
       "      <th>1335</th>\n",
       "      <td>18</td>\n",
       "      <td>female</td>\n",
       "      <td>no</td>\n",
       "      <td>southeast</td>\n",
       "      <td>12.28</td>\n",
       "      <td>0</td>\n",
       "      <td>4075</td>\n",
       "    </tr>\n",
       "    <tr>\n",
       "      <th>1336</th>\n",
       "      <td>21</td>\n",
       "      <td>female</td>\n",
       "      <td>no</td>\n",
       "      <td>southwest</td>\n",
       "      <td>8.60</td>\n",
       "      <td>0</td>\n",
       "      <td>5020</td>\n",
       "    </tr>\n",
       "    <tr>\n",
       "      <th>1337</th>\n",
       "      <td>61</td>\n",
       "      <td>female</td>\n",
       "      <td>yes</td>\n",
       "      <td>northwest</td>\n",
       "      <td>9.69</td>\n",
       "      <td>0</td>\n",
       "      <td>72853</td>\n",
       "    </tr>\n",
       "  </tbody>\n",
       "</table>\n",
       "<p>1338 rows × 7 columns</p>\n",
       "</div>"
      ],
      "text/plain": [
       "      age     sex smoker     region  viral load  severity level  \\\n",
       "0      19  female    yes  southwest        9.30               0   \n",
       "1      18    male     no  southeast       11.26               1   \n",
       "2      28    male     no  southeast       11.00               3   \n",
       "3      33    male     no  northwest        7.57               0   \n",
       "4      32    male     no  northwest        9.63               0   \n",
       "...   ...     ...    ...        ...         ...             ...   \n",
       "1333   50    male     no  northwest       10.32               3   \n",
       "1334   18  female     no  northeast       10.64               0   \n",
       "1335   18  female     no  southeast       12.28               0   \n",
       "1336   21  female     no  southwest        8.60               0   \n",
       "1337   61  female    yes  northwest        9.69               0   \n",
       "\n",
       "      hospitalization charges  \n",
       "0                       42212  \n",
       "1                        4314  \n",
       "2                       11124  \n",
       "3                       54961  \n",
       "4                        9667  \n",
       "...                       ...  \n",
       "1333                    26501  \n",
       "1334                     5515  \n",
       "1335                     4075  \n",
       "1336                     5020  \n",
       "1337                    72853  \n",
       "\n",
       "[1338 rows x 7 columns]"
      ]
     },
     "execution_count": 4,
     "metadata": {},
     "output_type": "execute_result"
    }
   ],
   "source": [
    "df = df.drop(columns = 'Unnamed: 0', axis = 0)\n",
    "df"
   ]
  },
  {
   "cell_type": "code",
   "execution_count": 5,
   "id": "6719caef",
   "metadata": {},
   "outputs": [
    {
     "data": {
      "text/html": [
       "<div>\n",
       "<style scoped>\n",
       "    .dataframe tbody tr th:only-of-type {\n",
       "        vertical-align: middle;\n",
       "    }\n",
       "\n",
       "    .dataframe tbody tr th {\n",
       "        vertical-align: top;\n",
       "    }\n",
       "\n",
       "    .dataframe thead th {\n",
       "        text-align: right;\n",
       "    }\n",
       "</style>\n",
       "<table border=\"1\" class=\"dataframe\">\n",
       "  <thead>\n",
       "    <tr style=\"text-align: right;\">\n",
       "      <th></th>\n",
       "      <th>age</th>\n",
       "      <th>viral load</th>\n",
       "      <th>severity level</th>\n",
       "      <th>hospitalization charges</th>\n",
       "    </tr>\n",
       "  </thead>\n",
       "  <tbody>\n",
       "    <tr>\n",
       "      <th>count</th>\n",
       "      <td>1338.000000</td>\n",
       "      <td>1338.000000</td>\n",
       "      <td>1338.000000</td>\n",
       "      <td>1338.000000</td>\n",
       "    </tr>\n",
       "    <tr>\n",
       "      <th>mean</th>\n",
       "      <td>39.207025</td>\n",
       "      <td>10.221233</td>\n",
       "      <td>1.094918</td>\n",
       "      <td>33176.058296</td>\n",
       "    </tr>\n",
       "    <tr>\n",
       "      <th>std</th>\n",
       "      <td>14.049960</td>\n",
       "      <td>2.032796</td>\n",
       "      <td>1.205493</td>\n",
       "      <td>30275.029296</td>\n",
       "    </tr>\n",
       "    <tr>\n",
       "      <th>min</th>\n",
       "      <td>18.000000</td>\n",
       "      <td>5.320000</td>\n",
       "      <td>0.000000</td>\n",
       "      <td>2805.000000</td>\n",
       "    </tr>\n",
       "    <tr>\n",
       "      <th>25%</th>\n",
       "      <td>27.000000</td>\n",
       "      <td>8.762500</td>\n",
       "      <td>0.000000</td>\n",
       "      <td>11851.000000</td>\n",
       "    </tr>\n",
       "    <tr>\n",
       "      <th>50%</th>\n",
       "      <td>39.000000</td>\n",
       "      <td>10.130000</td>\n",
       "      <td>1.000000</td>\n",
       "      <td>23455.000000</td>\n",
       "    </tr>\n",
       "    <tr>\n",
       "      <th>75%</th>\n",
       "      <td>51.000000</td>\n",
       "      <td>11.567500</td>\n",
       "      <td>2.000000</td>\n",
       "      <td>41599.500000</td>\n",
       "    </tr>\n",
       "    <tr>\n",
       "      <th>max</th>\n",
       "      <td>64.000000</td>\n",
       "      <td>17.710000</td>\n",
       "      <td>5.000000</td>\n",
       "      <td>159426.000000</td>\n",
       "    </tr>\n",
       "  </tbody>\n",
       "</table>\n",
       "</div>"
      ],
      "text/plain": [
       "               age   viral load  severity level  hospitalization charges\n",
       "count  1338.000000  1338.000000     1338.000000              1338.000000\n",
       "mean     39.207025    10.221233        1.094918             33176.058296\n",
       "std      14.049960     2.032796        1.205493             30275.029296\n",
       "min      18.000000     5.320000        0.000000              2805.000000\n",
       "25%      27.000000     8.762500        0.000000             11851.000000\n",
       "50%      39.000000    10.130000        1.000000             23455.000000\n",
       "75%      51.000000    11.567500        2.000000             41599.500000\n",
       "max      64.000000    17.710000        5.000000            159426.000000"
      ]
     },
     "execution_count": 5,
     "metadata": {},
     "output_type": "execute_result"
    }
   ],
   "source": [
    "df.describe()"
   ]
  },
  {
   "cell_type": "code",
   "execution_count": 6,
   "id": "51b9fa02",
   "metadata": {},
   "outputs": [
    {
     "name": "stdout",
     "output_type": "stream",
     "text": [
      "<class 'pandas.core.frame.DataFrame'>\n",
      "RangeIndex: 1338 entries, 0 to 1337\n",
      "Data columns (total 7 columns):\n",
      " #   Column                   Non-Null Count  Dtype  \n",
      "---  ------                   --------------  -----  \n",
      " 0   age                      1338 non-null   int64  \n",
      " 1   sex                      1338 non-null   object \n",
      " 2   smoker                   1338 non-null   object \n",
      " 3   region                   1338 non-null   object \n",
      " 4   viral load               1338 non-null   float64\n",
      " 5   severity level           1338 non-null   int64  \n",
      " 6   hospitalization charges  1338 non-null   int64  \n",
      "dtypes: float64(1), int64(3), object(3)\n",
      "memory usage: 73.3+ KB\n"
     ]
    }
   ],
   "source": [
    "#There are no missing values in this data\n",
    "df.info()"
   ]
  },
  {
   "cell_type": "code",
   "execution_count": 7,
   "id": "fd77fcfa",
   "metadata": {},
   "outputs": [
    {
     "data": {
      "image/png": "[encoded data removed]",
      "text/plain": [
       "<Figure size 432x288 with 1 Axes>"
      ]
     },
     "metadata": {
      "needs_background": "light"
     },
     "output_type": "display_data"
    }
   ],
   "source": [
    "sns.countplot(x = df['sex'])\n",
    "plt.show()"
   ]
  },
  {
   "cell_type": "code",
   "execution_count": 8,
   "id": "0ebd5c89",
   "metadata": {},
   "outputs": [
    {
     "data": {
      "image/png": "[encoded data removed]",
      "text/plain": [
       "<Figure size 432x288 with 1 Axes>"
      ]
     },
     "metadata": {
      "needs_background": "light"
     },
     "output_type": "display_data"
    }
   ],
   "source": [
    "sns.boxplot(x = df['severity level'], y = df['hospitalization charges'])\n",
    "plt.show()"
   ]
  },
  {
   "cell_type": "code",
   "execution_count": 9,
   "id": "7c4eedda",
   "metadata": {},
   "outputs": [
    {
     "data": {
      "image/png": "[encoded data removed]",
      "text/plain": [
       "<Figure size 432x288 with 1 Axes>"
      ]
     },
     "metadata": {
      "needs_background": "light"
     },
     "output_type": "display_data"
    }
   ],
   "source": [
    "sns.countplot(x = df['severity level'], hue = 'smoker', data =df)\n",
    "plt.show()"
   ]
  },
  {
   "cell_type": "code",
   "execution_count": 10,
   "id": "cf3a8a0a",
   "metadata": {},
   "outputs": [
    {
     "data": {
      "image/png": "[encoded data removed]",
      "text/plain": [
       "<Figure size 432x288 with 1 Axes>"
      ]
     },
     "metadata": {
      "needs_background": "light"
     },
     "output_type": "display_data"
    }
   ],
   "source": [
    "sns.countplot(x = df['region'], hue = 'smoker', data =df)\n",
    "plt.show()"
   ]
  },
  {
   "cell_type": "code",
   "execution_count": 11,
   "id": "2ed548c7",
   "metadata": {},
   "outputs": [
    {
     "data": {
      "image/png": "[encoded data removed]",
      "text/plain": [
       "<Figure size 432x288 with 1 Axes>"
      ]
     },
     "metadata": {
      "needs_background": "light"
     },
     "output_type": "display_data"
    }
   ],
   "source": [
    "# Hospitalization charges for the people in southeast region tend to be on higher side than other regions for smokers\n",
    "sns.boxplot( x= df['region'], y = df['hospitalization charges'], hue='smoker', data =df)\n",
    "plt.show()"
   ]
  },
  {
   "cell_type": "code",
   "execution_count": 12,
   "id": "9fc2bf95",
   "metadata": {},
   "outputs": [
    {
     "data": {
      "text/plain": [
       "<AxesSubplot:xlabel='smoker', ylabel='count'>"
      ]
     },
     "execution_count": 12,
     "metadata": {},
     "output_type": "execute_result"
    },
    {
     "data": {
      "image/png": "[encoded data removed]",
      "text/plain": [
       "<Figure size 432x288 with 1 Axes>"
      ]
     },
     "metadata": {
      "needs_background": "light"
     },
     "output_type": "display_data"
    }
   ],
   "source": [
    "sns.countplot(x = df['smoker'])"
   ]
  },
  {
   "cell_type": "code",
   "execution_count": 13,
   "id": "b857222f",
   "metadata": {},
   "outputs": [
    {
     "data": {
      "text/html": [
       "<div>\n",
       "<style scoped>\n",
       "    .dataframe tbody tr th:only-of-type {\n",
       "        vertical-align: middle;\n",
       "    }\n",
       "\n",
       "    .dataframe tbody tr th {\n",
       "        vertical-align: top;\n",
       "    }\n",
       "\n",
       "    .dataframe thead th {\n",
       "        text-align: right;\n",
       "    }\n",
       "</style>\n",
       "<table border=\"1\" class=\"dataframe\">\n",
       "  <thead>\n",
       "    <tr style=\"text-align: right;\">\n",
       "      <th></th>\n",
       "      <th>age</th>\n",
       "      <th>viral load</th>\n",
       "      <th>severity level</th>\n",
       "      <th>hospitalization charges</th>\n",
       "    </tr>\n",
       "  </thead>\n",
       "  <tbody>\n",
       "    <tr>\n",
       "      <th>age</th>\n",
       "      <td>1.000000</td>\n",
       "      <td>0.109300</td>\n",
       "      <td>0.042469</td>\n",
       "      <td>0.299008</td>\n",
       "    </tr>\n",
       "    <tr>\n",
       "      <th>viral load</th>\n",
       "      <td>0.109300</td>\n",
       "      <td>1.000000</td>\n",
       "      <td>0.012729</td>\n",
       "      <td>0.198388</td>\n",
       "    </tr>\n",
       "    <tr>\n",
       "      <th>severity level</th>\n",
       "      <td>0.042469</td>\n",
       "      <td>0.012729</td>\n",
       "      <td>1.000000</td>\n",
       "      <td>0.067998</td>\n",
       "    </tr>\n",
       "    <tr>\n",
       "      <th>hospitalization charges</th>\n",
       "      <td>0.299008</td>\n",
       "      <td>0.198388</td>\n",
       "      <td>0.067998</td>\n",
       "      <td>1.000000</td>\n",
       "    </tr>\n",
       "  </tbody>\n",
       "</table>\n",
       "</div>"
      ],
      "text/plain": [
       "                              age  viral load  severity level  \\\n",
       "age                      1.000000    0.109300        0.042469   \n",
       "viral load               0.109300    1.000000        0.012729   \n",
       "severity level           0.042469    0.012729        1.000000   \n",
       "hospitalization charges  0.299008    0.198388        0.067998   \n",
       "\n",
       "                         hospitalization charges  \n",
       "age                                     0.299008  \n",
       "viral load                              0.198388  \n",
       "severity level                          0.067998  \n",
       "hospitalization charges                 1.000000  "
      ]
     },
     "execution_count": 13,
     "metadata": {},
     "output_type": "execute_result"
    }
   ],
   "source": [
    "df.corr()"
   ]
  },
  {
   "cell_type": "code",
   "execution_count": 14,
   "id": "3f7c7177",
   "metadata": {},
   "outputs": [],
   "source": [
    "# As data around hospitalization charges is lor normally distributed, we comverted that to normal by applying log\n",
    "df['hospitalization charges'] = np.log(df['hospitalization charges'])"
   ]
  },
  {
   "cell_type": "code",
   "execution_count": 15,
   "id": "10e5c214",
   "metadata": {},
   "outputs": [
    {
     "data": {
      "image/png": "[encoded data removed]",
      "text/plain": [
       "<Figure size 432x288 with 1 Axes>"
      ]
     },
     "metadata": {
      "needs_background": "light"
     },
     "output_type": "display_data"
    }
   ],
   "source": [
    "# viral load seems to be same for both smoker and non-smoker\n",
    "sns.boxplot(x = df['smoker'], y = df['viral load'], orient = 'v')\n",
    "plt.show()"
   ]
  },
  {
   "cell_type": "code",
   "execution_count": 16,
   "id": "7e3c54e9",
   "metadata": {},
   "outputs": [
    {
     "data": {
      "image/png": "[encoded data removed]",
      "text/plain": [
       "<Figure size 432x288 with 1 Axes>"
      ]
     },
     "metadata": {
      "needs_background": "light"
     },
     "output_type": "display_data"
    }
   ],
   "source": [
    "# Visually we can interpret that the hospitalization charges for a person who smokes is higher\n",
    "sns.boxplot(x = df['smoker'],y = df['hospitalization charges'])\n",
    "plt.show()"
   ]
  },
  {
   "cell_type": "code",
   "execution_count": 17,
   "id": "49c48c37",
   "metadata": {},
   "outputs": [
    {
     "data": {
      "image/png": "[encoded data removed]",
      "text/plain": [
       "<Figure size 432x288 with 1 Axes>"
      ]
     },
     "metadata": {
      "needs_background": "light"
     },
     "output_type": "display_data"
    }
   ],
   "source": [
    "sns.boxplot(x = df['smoker'],y = df['severity level'])\n",
    "plt.show()"
   ]
  },
  {
   "cell_type": "code",
   "execution_count": 18,
   "id": "d03e305d",
   "metadata": {},
   "outputs": [
    {
     "data": {
      "text/html": [
       "<div>\n",
       "<style scoped>\n",
       "    .dataframe tbody tr th:only-of-type {\n",
       "        vertical-align: middle;\n",
       "    }\n",
       "\n",
       "    .dataframe tbody tr th {\n",
       "        vertical-align: top;\n",
       "    }\n",
       "\n",
       "    .dataframe thead th {\n",
       "        text-align: right;\n",
       "    }\n",
       "</style>\n",
       "<table border=\"1\" class=\"dataframe\">\n",
       "  <thead>\n",
       "    <tr style=\"text-align: right;\">\n",
       "      <th></th>\n",
       "      <th>age</th>\n",
       "      <th>sex</th>\n",
       "      <th>smoker</th>\n",
       "      <th>region</th>\n",
       "      <th>viral load</th>\n",
       "      <th>severity level</th>\n",
       "      <th>hospitalization charges</th>\n",
       "    </tr>\n",
       "  </thead>\n",
       "  <tbody>\n",
       "    <tr>\n",
       "      <th>116</th>\n",
       "      <td>58</td>\n",
       "      <td>male</td>\n",
       "      <td>no</td>\n",
       "      <td>southeast</td>\n",
       "      <td>16.35</td>\n",
       "      <td>0</td>\n",
       "      <td>10.256009</td>\n",
       "    </tr>\n",
       "    <tr>\n",
       "      <th>286</th>\n",
       "      <td>46</td>\n",
       "      <td>female</td>\n",
       "      <td>no</td>\n",
       "      <td>northeast</td>\n",
       "      <td>16.02</td>\n",
       "      <td>2</td>\n",
       "      <td>10.068239</td>\n",
       "    </tr>\n",
       "    <tr>\n",
       "      <th>401</th>\n",
       "      <td>47</td>\n",
       "      <td>male</td>\n",
       "      <td>no</td>\n",
       "      <td>southeast</td>\n",
       "      <td>15.84</td>\n",
       "      <td>1</td>\n",
       "      <td>9.913933</td>\n",
       "    </tr>\n",
       "    <tr>\n",
       "      <th>543</th>\n",
       "      <td>54</td>\n",
       "      <td>female</td>\n",
       "      <td>yes</td>\n",
       "      <td>southeast</td>\n",
       "      <td>15.80</td>\n",
       "      <td>0</td>\n",
       "      <td>11.979335</td>\n",
       "    </tr>\n",
       "    <tr>\n",
       "      <th>847</th>\n",
       "      <td>23</td>\n",
       "      <td>male</td>\n",
       "      <td>no</td>\n",
       "      <td>southeast</td>\n",
       "      <td>16.79</td>\n",
       "      <td>1</td>\n",
       "      <td>8.715224</td>\n",
       "    </tr>\n",
       "    <tr>\n",
       "      <th>860</th>\n",
       "      <td>37</td>\n",
       "      <td>female</td>\n",
       "      <td>yes</td>\n",
       "      <td>southwest</td>\n",
       "      <td>15.87</td>\n",
       "      <td>2</td>\n",
       "      <td>11.655154</td>\n",
       "    </tr>\n",
       "    <tr>\n",
       "      <th>1047</th>\n",
       "      <td>22</td>\n",
       "      <td>male</td>\n",
       "      <td>yes</td>\n",
       "      <td>southeast</td>\n",
       "      <td>17.53</td>\n",
       "      <td>1</td>\n",
       "      <td>11.619562</td>\n",
       "    </tr>\n",
       "    <tr>\n",
       "      <th>1088</th>\n",
       "      <td>52</td>\n",
       "      <td>male</td>\n",
       "      <td>no</td>\n",
       "      <td>southeast</td>\n",
       "      <td>15.91</td>\n",
       "      <td>1</td>\n",
       "      <td>10.101190</td>\n",
       "    </tr>\n",
       "    <tr>\n",
       "      <th>1317</th>\n",
       "      <td>18</td>\n",
       "      <td>male</td>\n",
       "      <td>no</td>\n",
       "      <td>southeast</td>\n",
       "      <td>17.71</td>\n",
       "      <td>0</td>\n",
       "      <td>7.975565</td>\n",
       "    </tr>\n",
       "  </tbody>\n",
       "</table>\n",
       "</div>"
      ],
      "text/plain": [
       "      age     sex smoker     region  viral load  severity level  \\\n",
       "116    58    male     no  southeast       16.35               0   \n",
       "286    46  female     no  northeast       16.02               2   \n",
       "401    47    male     no  southeast       15.84               1   \n",
       "543    54  female    yes  southeast       15.80               0   \n",
       "847    23    male     no  southeast       16.79               1   \n",
       "860    37  female    yes  southwest       15.87               2   \n",
       "1047   22    male    yes  southeast       17.53               1   \n",
       "1088   52    male     no  southeast       15.91               1   \n",
       "1317   18    male     no  southeast       17.71               0   \n",
       "\n",
       "      hospitalization charges  \n",
       "116                 10.256009  \n",
       "286                 10.068239  \n",
       "401                  9.913933  \n",
       "543                 11.979335  \n",
       "847                  8.715224  \n",
       "860                 11.655154  \n",
       "1047                11.619562  \n",
       "1088                10.101190  \n",
       "1317                 7.975565  "
      ]
     },
     "execution_count": 18,
     "metadata": {},
     "output_type": "execute_result"
    }
   ],
   "source": [
    "#outlier treatment\n",
    "\n",
    "q1 = df['viral load'].quantile(0.25)\n",
    "q3 = df['viral load'].quantile(0.75)\n",
    "\n",
    "IQR = q3 - q1\n",
    "lower_bound = q1 - 1.5 * IQR\n",
    "upper_bound = q3 + 1.5 * IQR\n",
    "\n",
    "outliers = df[(df['viral load'] < lower_bound) | (df['viral load'] > upper_bound)]\n",
    "\n",
    "outliers"
   ]
  },
  {
   "cell_type": "code",
   "execution_count": 19,
   "id": "346a078f",
   "metadata": {},
   "outputs": [],
   "source": [
    "#since there are only few outliers, we chose to remove them\n",
    "df.drop(outliers.index, inplace = True)"
   ]
  },
  {
   "cell_type": "code",
   "execution_count": 20,
   "id": "8ee7aeeb",
   "metadata": {},
   "outputs": [
    {
     "data": {
      "text/plain": [
       "(1329, 7)"
      ]
     },
     "execution_count": 20,
     "metadata": {},
     "output_type": "execute_result"
    }
   ],
   "source": [
    "# After removing the outliers\n",
    "df.shape"
   ]
  },
  {
   "cell_type": "markdown",
   "id": "a1610804",
   "metadata": {},
   "source": [
    "# Hypothesis Testing"
   ]
  },
  {
   "cell_type": "markdown",
   "id": "5666e26f",
   "metadata": {},
   "source": [
    "## T-test Right tailed\n",
    "\n",
    "### Prove (or disprove) that the hospitalization charges of people who do smoking are greater than those who don't?\n",
    "\n",
    "#### Null Hypothesis ( H0) = Hospitalization charges of the people who smoke are as same as the people that don't smoke\n",
    "#### Alternate Hypothesis ( Ha) = Hospitalization charges of the people who smoke are greater than the people that don't smoke"
   ]
  },
  {
   "cell_type": "code",
   "execution_count": 21,
   "id": "9e413a76",
   "metadata": {},
   "outputs": [
    {
     "data": {
      "text/plain": [
       "no     1058\n",
       "yes     271\n",
       "Name: smoker, dtype: int64"
      ]
     },
     "execution_count": 21,
     "metadata": {},
     "output_type": "execute_result"
    }
   ],
   "source": [
    "df.smoker.value_counts()"
   ]
  },
  {
   "cell_type": "code",
   "execution_count": 22,
   "id": "7e52c06b",
   "metadata": {},
   "outputs": [],
   "source": [
    "smoker_hosp_charges = df[df['smoker'] == 'yes']['hospitalization charges'].sample(271)\n",
    "non_smoker_hosp_charges = df[df['smoker'] == 'no']['hospitalization charges'].sample(271)"
   ]
  },
  {
   "cell_type": "code",
   "execution_count": 23,
   "id": "b8d707f9",
   "metadata": {},
   "outputs": [],
   "source": [
    "from scipy.stats import ttest_ind"
   ]
  },
  {
   "cell_type": "code",
   "execution_count": 24,
   "id": "0a059c21",
   "metadata": {},
   "outputs": [],
   "source": [
    "statistic, pvalue = ttest_ind(smoker_hosp_charges, non_smoker_hosp_charges, alternative='greater')"
   ]
  },
  {
   "cell_type": "code",
   "execution_count": 25,
   "id": "b16885ee",
   "metadata": {},
   "outputs": [
    {
     "data": {
      "text/plain": [
       "1.4960679101378134e-104"
      ]
     },
     "execution_count": 25,
     "metadata": {},
     "output_type": "execute_result"
    }
   ],
   "source": [
    "pvalue"
   ]
  },
  {
   "cell_type": "markdown",
   "id": "52998169",
   "metadata": {},
   "source": [
    "#### As the p-value is closer to zero, we reject the null hypothesis and confirm that the hospitalization charges of the people who smoke are much greater than people who don't smoke"
   ]
  },
  {
   "cell_type": "code",
   "execution_count": null,
   "id": "22f507f1",
   "metadata": {},
   "outputs": [],
   "source": []
  },
  {
   "cell_type": "markdown",
   "id": "2b4695d5",
   "metadata": {},
   "source": [
    "\n",
    "## T-test Two tailed\n",
    "\n",
    "### Prove (or disprove) with statistical evidence that the viral load of females is different from that of males\n",
    "\n",
    "#### Null Hypothesis ( H0) = viral load of the female is as same as the viral load of males\n",
    "#### Alternate Hypothesis ( Ha) = viral load of the female is not same as the viral load of males"
   ]
  },
  {
   "cell_type": "code",
   "execution_count": 26,
   "id": "cd814b5f",
   "metadata": {},
   "outputs": [
    {
     "data": {
      "text/plain": [
       "male      670\n",
       "female    659\n",
       "Name: sex, dtype: int64"
      ]
     },
     "execution_count": 26,
     "metadata": {},
     "output_type": "execute_result"
    }
   ],
   "source": [
    "df.sex.value_counts()"
   ]
  },
  {
   "cell_type": "code",
   "execution_count": 27,
   "id": "2fa686c3",
   "metadata": {},
   "outputs": [],
   "source": [
    "viral_load_in_male = df[df['sex'] == 'male']['viral load'].sample(659)\n",
    "viral_load_in_female = df[df['sex'] == 'female']['viral load'].sample(659)"
   ]
  },
  {
   "cell_type": "code",
   "execution_count": 28,
   "id": "c1e0982c",
   "metadata": {},
   "outputs": [],
   "source": [
    "test_stat, p_value = ttest_ind(viral_load_in_male, viral_load_in_female, alternative='two-sided')"
   ]
  },
  {
   "cell_type": "code",
   "execution_count": 29,
   "id": "4fcb60dd",
   "metadata": {},
   "outputs": [
    {
     "data": {
      "text/plain": [
       "0.13005476657855083"
      ]
     },
     "execution_count": 29,
     "metadata": {},
     "output_type": "execute_result"
    }
   ],
   "source": [
    "p_value"
   ]
  },
  {
   "cell_type": "markdown",
   "id": "f83648be",
   "metadata": {},
   "source": [
    "#### As p-value is greater than 0.05, we fail to reject the null hypothesis and confirm that viral load of female is as same as the viral load of male"
   ]
  },
  {
   "cell_type": "code",
   "execution_count": null,
   "id": "1a2b782d",
   "metadata": {},
   "outputs": [],
   "source": []
  },
  {
   "cell_type": "markdown",
   "id": "099a4057",
   "metadata": {},
   "source": [
    "## Chi Square Test\n",
    "\n",
    "### Is the proportion of smoking significantly different across different regions?\n",
    "\n",
    "#### Null Hypothesis (H0) : There is no significant difference across different regions in proportion of smoking\n",
    "#### Alternate Hypothesis (Ha) : There is a significant difference across different regions in proportion of smoking"
   ]
  },
  {
   "cell_type": "code",
   "execution_count": 30,
   "id": "1c551ee2",
   "metadata": {},
   "outputs": [
    {
     "data": {
      "text/html": [
       "<div>\n",
       "<style scoped>\n",
       "    .dataframe tbody tr th:only-of-type {\n",
       "        vertical-align: middle;\n",
       "    }\n",
       "\n",
       "    .dataframe tbody tr th {\n",
       "        vertical-align: top;\n",
       "    }\n",
       "\n",
       "    .dataframe thead th {\n",
       "        text-align: right;\n",
       "    }\n",
       "</style>\n",
       "<table border=\"1\" class=\"dataframe\">\n",
       "  <thead>\n",
       "    <tr style=\"text-align: right;\">\n",
       "      <th>region</th>\n",
       "      <th>northeast</th>\n",
       "      <th>northwest</th>\n",
       "      <th>southeast</th>\n",
       "      <th>southwest</th>\n",
       "      <th>All</th>\n",
       "    </tr>\n",
       "    <tr>\n",
       "      <th>smoker</th>\n",
       "      <th></th>\n",
       "      <th></th>\n",
       "      <th></th>\n",
       "      <th></th>\n",
       "      <th></th>\n",
       "    </tr>\n",
       "  </thead>\n",
       "  <tbody>\n",
       "    <tr>\n",
       "      <th>no</th>\n",
       "      <td>256</td>\n",
       "      <td>267</td>\n",
       "      <td>268</td>\n",
       "      <td>267</td>\n",
       "      <td>1058</td>\n",
       "    </tr>\n",
       "    <tr>\n",
       "      <th>yes</th>\n",
       "      <td>67</td>\n",
       "      <td>58</td>\n",
       "      <td>89</td>\n",
       "      <td>57</td>\n",
       "      <td>271</td>\n",
       "    </tr>\n",
       "    <tr>\n",
       "      <th>All</th>\n",
       "      <td>323</td>\n",
       "      <td>325</td>\n",
       "      <td>357</td>\n",
       "      <td>324</td>\n",
       "      <td>1329</td>\n",
       "    </tr>\n",
       "  </tbody>\n",
       "</table>\n",
       "</div>"
      ],
      "text/plain": [
       "region  northeast  northwest  southeast  southwest   All\n",
       "smoker                                                  \n",
       "no            256        267        268        267  1058\n",
       "yes            67         58         89         57   271\n",
       "All           323        325        357        324  1329"
      ]
     },
     "execution_count": 30,
     "metadata": {},
     "output_type": "execute_result"
    }
   ],
   "source": [
    "data_1 = pd.crosstab(df['smoker'], df['region'], margins = True)\n",
    "data_1"
   ]
  },
  {
   "cell_type": "code",
   "execution_count": 31,
   "id": "bc7fc4e6",
   "metadata": {},
   "outputs": [],
   "source": [
    "observed = data_1.iloc[0:2,0:4]"
   ]
  },
  {
   "cell_type": "code",
   "execution_count": 32,
   "id": "33199d1d",
   "metadata": {},
   "outputs": [
    {
     "data": {
      "text/html": [
       "<div>\n",
       "<style scoped>\n",
       "    .dataframe tbody tr th:only-of-type {\n",
       "        vertical-align: middle;\n",
       "    }\n",
       "\n",
       "    .dataframe tbody tr th {\n",
       "        vertical-align: top;\n",
       "    }\n",
       "\n",
       "    .dataframe thead th {\n",
       "        text-align: right;\n",
       "    }\n",
       "</style>\n",
       "<table border=\"1\" class=\"dataframe\">\n",
       "  <thead>\n",
       "    <tr style=\"text-align: right;\">\n",
       "      <th>region</th>\n",
       "      <th>northeast</th>\n",
       "      <th>northwest</th>\n",
       "      <th>southeast</th>\n",
       "      <th>southwest</th>\n",
       "    </tr>\n",
       "    <tr>\n",
       "      <th>smoker</th>\n",
       "      <th></th>\n",
       "      <th></th>\n",
       "      <th></th>\n",
       "      <th></th>\n",
       "    </tr>\n",
       "  </thead>\n",
       "  <tbody>\n",
       "    <tr>\n",
       "      <th>no</th>\n",
       "      <td>256</td>\n",
       "      <td>267</td>\n",
       "      <td>268</td>\n",
       "      <td>267</td>\n",
       "    </tr>\n",
       "    <tr>\n",
       "      <th>yes</th>\n",
       "      <td>67</td>\n",
       "      <td>58</td>\n",
       "      <td>89</td>\n",
       "      <td>57</td>\n",
       "    </tr>\n",
       "  </tbody>\n",
       "</table>\n",
       "</div>"
      ],
      "text/plain": [
       "region  northeast  northwest  southeast  southwest\n",
       "smoker                                            \n",
       "no            256        267        268        267\n",
       "yes            67         58         89         57"
      ]
     },
     "execution_count": 32,
     "metadata": {},
     "output_type": "execute_result"
    }
   ],
   "source": [
    "observed"
   ]
  },
  {
   "cell_type": "code",
   "execution_count": 33,
   "id": "388450b0",
   "metadata": {},
   "outputs": [],
   "source": [
    "expected = np.outer(data_1['All'][0:2], data_1.loc['All'][0:4])/1338"
   ]
  },
  {
   "cell_type": "code",
   "execution_count": 34,
   "id": "d8fe880f",
   "metadata": {},
   "outputs": [],
   "source": [
    "expected = pd.DataFrame(expected)\n",
    "expected.columns = ['northeast', 'northwest', 'southeast', 'southwest']\n",
    "expected.index = ['no','yes']"
   ]
  },
  {
   "cell_type": "code",
   "execution_count": 35,
   "id": "ef7a80a0",
   "metadata": {},
   "outputs": [
    {
     "data": {
      "text/html": [
       "<div>\n",
       "<style scoped>\n",
       "    .dataframe tbody tr th:only-of-type {\n",
       "        vertical-align: middle;\n",
       "    }\n",
       "\n",
       "    .dataframe tbody tr th {\n",
       "        vertical-align: top;\n",
       "    }\n",
       "\n",
       "    .dataframe thead th {\n",
       "        text-align: right;\n",
       "    }\n",
       "</style>\n",
       "<table border=\"1\" class=\"dataframe\">\n",
       "  <thead>\n",
       "    <tr style=\"text-align: right;\">\n",
       "      <th></th>\n",
       "      <th>northeast</th>\n",
       "      <th>northwest</th>\n",
       "      <th>southeast</th>\n",
       "      <th>southwest</th>\n",
       "    </tr>\n",
       "  </thead>\n",
       "  <tbody>\n",
       "    <tr>\n",
       "      <th>no</th>\n",
       "      <td>255.406577</td>\n",
       "      <td>256.988042</td>\n",
       "      <td>282.291480</td>\n",
       "      <td>256.197309</td>\n",
       "    </tr>\n",
       "    <tr>\n",
       "      <th>yes</th>\n",
       "      <td>65.420777</td>\n",
       "      <td>65.825859</td>\n",
       "      <td>72.307175</td>\n",
       "      <td>65.623318</td>\n",
       "    </tr>\n",
       "  </tbody>\n",
       "</table>\n",
       "</div>"
      ],
      "text/plain": [
       "      northeast   northwest   southeast   southwest\n",
       "no   255.406577  256.988042  282.291480  256.197309\n",
       "yes   65.420777   65.825859   72.307175   65.623318"
      ]
     },
     "execution_count": 35,
     "metadata": {},
     "output_type": "execute_result"
    }
   ],
   "source": [
    "expected"
   ]
  },
  {
   "cell_type": "code",
   "execution_count": 36,
   "id": "294ce0e1",
   "metadata": {},
   "outputs": [
    {
     "data": {
      "text/plain": [
       "7.525843203895013"
      ]
     },
     "execution_count": 36,
     "metadata": {},
     "output_type": "execute_result"
    }
   ],
   "source": [
    "chi_squared_stat = ((observed - expected)**2/expected).sum().sum()\n",
    "chi_squared_stat"
   ]
  },
  {
   "cell_type": "code",
   "execution_count": 37,
   "id": "f8eba773",
   "metadata": {},
   "outputs": [],
   "source": [
    "from scipy.stats import chi2\n",
    "critical_value = chi2.ppf"
   ]
  },
  {
   "cell_type": "code",
   "execution_count": 38,
   "id": "5eb13699",
   "metadata": {},
   "outputs": [],
   "source": [
    "alpha = 0.05\n",
    "df = 3"
   ]
  },
  {
   "cell_type": "code",
   "execution_count": 39,
   "id": "827c7885",
   "metadata": {},
   "outputs": [],
   "source": [
    "critical_value = chi2.ppf(q = 1-alpha, df= df)"
   ]
  },
  {
   "cell_type": "code",
   "execution_count": 40,
   "id": "366ef09d",
   "metadata": {},
   "outputs": [
    {
     "data": {
      "text/plain": [
       "7.814727903251179"
      ]
     },
     "execution_count": 40,
     "metadata": {},
     "output_type": "execute_result"
    }
   ],
   "source": [
    "critical_value"
   ]
  },
  {
   "cell_type": "code",
   "execution_count": 41,
   "id": "03f8752f",
   "metadata": {},
   "outputs": [],
   "source": [
    "p_value = 1 - chi2.cdf(x = chi_squared_stat, df = 3)"
   ]
  },
  {
   "cell_type": "code",
   "execution_count": 42,
   "id": "a5eb4304",
   "metadata": {},
   "outputs": [
    {
     "data": {
      "text/plain": [
       "0.05689813446159697"
      ]
     },
     "execution_count": 42,
     "metadata": {},
     "output_type": "execute_result"
    }
   ],
   "source": [
    "p_value"
   ]
  },
  {
   "cell_type": "markdown",
   "id": "e5ee98aa",
   "metadata": {},
   "source": [
    "#### As p_value is greater than 0.05, we failed to reject the null hypothesis and confirm that there is no significant difference across regions in proportion of smoking."
   ]
  },
  {
   "cell_type": "code",
   "execution_count": null,
   "id": "d8f0670b",
   "metadata": {},
   "outputs": [],
   "source": []
  },
  {
   "cell_type": "markdown",
   "id": "9c0c2bf5",
   "metadata": {},
   "source": [
    "## Anova\n",
    "\n",
    "### Is the mean viral load of women with 0 Severity level, 1 Severity level, and 2 Severity level the same ?\n",
    "\n",
    "#### Null Hypothesis (H0) : Viral load is same across the severity levels\n",
    "#### Alternate Hypothesis (Ha) : Viral load is not same across the severity levels"
   ]
  },
  {
   "cell_type": "code",
   "execution_count": 45,
   "id": "de116198",
   "metadata": {},
   "outputs": [],
   "source": [
    "df_men = df[df['sex'] == 'male']\n",
    "df_women = df[df['sex'] == 'female']"
   ]
  },
  {
   "cell_type": "code",
   "execution_count": 46,
   "id": "cad37a10",
   "metadata": {},
   "outputs": [
    {
     "data": {
      "text/plain": [
       "0    289\n",
       "1    158\n",
       "2    119\n",
       "3     77\n",
       "4     11\n",
       "5      8\n",
       "Name: severity level, dtype: int64"
      ]
     },
     "execution_count": 46,
     "metadata": {},
     "output_type": "execute_result"
    }
   ],
   "source": [
    "df_women['severity level'].value_counts()"
   ]
  },
  {
   "cell_type": "code",
   "execution_count": 47,
   "id": "e06e9f4d",
   "metadata": {},
   "outputs": [],
   "source": [
    "sev_level_0 = df_women[df_women['severity level'] == 0]['viral load'].sample(117)\n",
    "sev_level_1 = df_women[df_women['severity level'] == 1]['viral load'].sample(117)\n",
    "sev_level_2 = df_women[df_women['severity level'] == 2]['viral load'].sample(117)"
   ]
  },
  {
   "cell_type": "code",
   "execution_count": 48,
   "id": "c1357452",
   "metadata": {},
   "outputs": [
    {
     "data": {
      "text/plain": [
       "F_onewayResult(statistic=0.5516250215780196, pvalue=0.5765158372830511)"
      ]
     },
     "execution_count": 48,
     "metadata": {},
     "output_type": "execute_result"
    }
   ],
   "source": [
    "import scipy.stats as stats\n",
    "stats.f_oneway(sev_level_0, sev_level_1, sev_level_2)"
   ]
  },
  {
   "cell_type": "markdown",
   "id": "78e557ae",
   "metadata": {},
   "source": [
    "#### As p_value is greater than 0.05, we failed to reject the null hypothesis and confirm that the mean viral load of women with 0 severity level and 1 severity level and 2 severity level is same"
   ]
  },
  {
   "cell_type": "code",
   "execution_count": null,
   "id": "e82c3ad9",
   "metadata": {},
   "outputs": [],
   "source": []
  }
 ],
 "metadata": {
  "kernelspec": {
   "display_name": "Python 3 (ipykernel)",
   "language": "python",
   "name": "python3"
  },
  "language_info": {
   "codemirror_mode": {
    "name": "ipython",
    "version": 3
   },
   "file_extension": ".py",
   "mimetype": "text/x-python",
   "name": "python",
   "nbconvert_exporter": "python",
   "pygments_lexer": "ipython3",
   "version": "3.10.4"
  }
 },
 "nbformat": 4,
 "nbformat_minor": 5
}
